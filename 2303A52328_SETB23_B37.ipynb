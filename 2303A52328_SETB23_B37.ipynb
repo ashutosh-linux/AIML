{
  "nbformat": 4,
  "nbformat_minor": 0,
  "metadata": {
    "colab": {
      "provenance": [],
      "authorship_tag": "ABX9TyNrB+28w3YvNDiwIuRda4SA",
      "include_colab_link": true
    },
    "kernelspec": {
      "name": "python3",
      "display_name": "Python 3"
    },
    "language_info": {
      "name": "python"
    }
  },
  "cells": [
    {
      "cell_type": "markdown",
      "metadata": {
        "id": "view-in-github",
        "colab_type": "text"
      },
      "source": [
        "<a href=\"https://colab.research.google.com/github/ashutosh-linux/AIML/blob/main/2303A52328_SETB23_B37.ipynb\" target=\"_parent\"><img src=\"https://colab.research.google.com/assets/colab-badge.svg\" alt=\"Open In Colab\"/></a>"
      ]
    },
    {
      "cell_type": "markdown",
      "source": [
        "Prediction of Customer interest in products sold Online using Turkish Reviews\n",
        "1. Identify the top 5 reasons products with low user reviews\n",
        "2. Counts the products with similar ratings and list the products with >4 ratings\n",
        "3. Find the max and min ratings of products based on reviews\n",
        "4. Name the product was most reviewed by customers\n",
        "5. Name the reviews given for electronic products and edible products.\n",
        "6. Apply either Classification Model or Clustering Model to evaluate the dataset."
      ],
      "metadata": {
        "id": "dBYMtjt12rpS"
      }
    },
    {
      "cell_type": "code",
      "execution_count": 3,
      "metadata": {
        "colab": {
          "base_uri": "https://localhost:8080/"
        },
        "id": "lsPZU36Wxjdz",
        "outputId": "55087fcc-0811-44b1-8ee0-feaef63e5535"
      },
      "outputs": [
        {
          "output_type": "stream",
          "name": "stdout",
          "text": [
            "Top 5 Reasons for Low Reviews:\n",
            " Poor        1\n",
            "watery      1\n",
            "Too         1\n",
            "Overripe    1\n",
            "food        1\n",
            "Name: count, dtype: int64\n",
            "\n",
            "Products Count by Rating:\n",
            " Rating\n",
            "1    4\n",
            "2    4\n",
            "3    1\n",
            "4    5\n",
            "5    6\n",
            "Name: Product_Name, dtype: int64\n",
            "\n",
            "Products with Ratings > 4:\n",
            " ['Laptop' 'Cookies' 'Bread' 'TV' 'Apple' 'Orange']\n",
            "\n",
            "Max and Min Ratings for Each Product:\n",
            "                  max  min\n",
            "Product_Name             \n",
            "Apple              5    5\n",
            "Banana             2    2\n",
            "Bread              5    5\n",
            "Cereal             4    4\n",
            "Charger            1    1\n",
            "Chips              1    1\n",
            "Chocolate          4    4\n",
            "Cookies            5    5\n",
            "Headphones         2    2\n",
            "Juice              2    2\n",
            "Keyboard           3    3\n",
            "Laptop             5    5\n",
            "Microwave          4    4\n",
            "Milk               1    1\n",
            "Orange             5    5\n",
            "Oven               2    2\n",
            "Refrigerator       1    1\n",
            "Smartphone         4    4\n",
            "TV                 5    5\n",
            "Washing Machine    4    4\n",
            "\n",
            "Most Reviewed Product: Laptop\n",
            "\n",
            "Reviews for Electronics:\n",
            " ['Excellent product', 'Good performance', 'Poor sound quality', 'Stopped working', 'Keys are not smooth', 'Amazing picture', 'Good washing', 'No cooling', 'Heats evenly', 'Burns food']\n",
            "\n",
            "Reviews for Edibles:\n",
            " ['Tastes great', 'Very sweet', 'Expired on arrival', 'Fresh and soft', 'Very watery', 'Very fresh', 'Overripe', 'Juicy and sweet', 'Too salty', 'Crispy and tasty']\n",
            "\n",
            "Clustered Reviews:\n",
            "\n",
            "Cluster 0:\n",
            "    Product_Name          Review_Text\n",
            "0         Laptop    Excellent product\n",
            "2     Headphones   Poor sound quality\n",
            "3        Charger      Stopped working\n",
            "4       Keyboard  Keys are not smooth\n",
            "5        Cookies         Tastes great\n",
            "6      Chocolate           Very sweet\n",
            "7           Milk   Expired on arrival\n",
            "8          Bread       Fresh and soft\n",
            "9          Juice          Very watery\n",
            "10            TV      Amazing picture\n",
            "12  Refrigerator           No cooling\n",
            "13     Microwave         Heats evenly\n",
            "14          Oven           Burns food\n",
            "15         Apple           Very fresh\n",
            "16        Banana             Overripe\n",
            "17        Orange      Juicy and sweet\n",
            "18         Chips            Too salty\n",
            "\n",
            "Cluster 1:\n",
            "   Product_Name       Review_Text\n",
            "19       Cereal  Crispy and tasty\n",
            "\n",
            "Cluster 2:\n",
            "       Product_Name       Review_Text\n",
            "1        Smartphone  Good performance\n",
            "11  Washing Machine      Good washing\n"
          ]
        }
      ],
      "source": [
        "import pandas as pd\n",
        "from sklearn.feature_extraction.text import TfidfVectorizer\n",
        "from sklearn.cluster import KMeans\n",
        "from sklearn.preprocessing import LabelEncoder\n",
        "\n",
        "# Load the dataset\n",
        "file_path = '/content/Turkish_Reviews.csv'\n",
        "reviews = pd.read_csv(file_path)\n",
        "\n",
        "# 1. Identify the Top 5 Reasons for Low Reviews (Ratings <= 2)\n",
        "low_reviews = reviews[reviews['Rating'] <= 2]\n",
        "low_review_reasons = low_reviews['Review_Text'].str.split(expand=True).stack().value_counts().head(5)\n",
        "print(\"Top 5 Reasons for Low Reviews:\\n\", low_review_reasons)\n",
        "\n",
        "# 2. Count Products with Similar Ratings & List Products with >4 Ratings\n",
        "rating_counts = reviews.groupby('Rating')['Product_Name'].count()\n",
        "products_above_4 = reviews[reviews['Rating'] > 4]['Product_Name'].unique()\n",
        "print(\"\\nProducts Count by Rating:\\n\", rating_counts)\n",
        "print(\"\\nProducts with Ratings > 4:\\n\", products_above_4)\n",
        "\n",
        "# 3. Find the Max and Min Ratings for Each Product\n",
        "max_min_ratings = reviews.groupby('Product_Name')['Rating'].agg(['max', 'min'])\n",
        "print(\"\\nMax and Min Ratings for Each Product:\\n\", max_min_ratings)\n",
        "\n",
        "# 4. Name the Most Reviewed Product\n",
        "most_reviewed_product = reviews['Product_Name'].value_counts().idxmax()\n",
        "print(\"\\nMost Reviewed Product:\", most_reviewed_product)\n",
        "\n",
        "# 5. Extract Reviews for Electronics and Edibles\n",
        "electronics_reviews = reviews[reviews['Category'] == 'Electronics']['Review_Text']\n",
        "edibles_reviews = reviews[reviews['Category'] == 'Edibles']['Review_Text']\n",
        "print(\"\\nReviews for Electronics:\\n\", electronics_reviews.tolist())\n",
        "print(\"\\nReviews for Edibles:\\n\", edibles_reviews.tolist())\n",
        "\n",
        "# 6. Apply Clustering Model to Evaluate the Dataset\n",
        "# Preprocess the Review Text for Clustering\n",
        "vectorizer = TfidfVectorizer(stop_words='english')\n",
        "X = vectorizer.fit_transform(reviews['Review_Text'])\n",
        "\n",
        "# Apply K-Means Clustering\n",
        "num_clusters = 3\n",
        "kmeans = KMeans(n_clusters=num_clusters, random_state=42)\n",
        "reviews['Cluster'] = kmeans.fit_predict(X)\n",
        "\n",
        "# Evaluate Clusters\n",
        "print(\"\\nClustered Reviews:\")\n",
        "for cluster in range(num_clusters):\n",
        "    print(f\"\\nCluster {cluster}:\")\n",
        "    print(reviews[reviews['Cluster'] == cluster][['Product_Name', 'Review_Text']])"
      ]
    }
  ]
}